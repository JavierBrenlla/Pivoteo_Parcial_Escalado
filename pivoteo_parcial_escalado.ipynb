{
 "cells": [
  {
   "cell_type": "code",
   "execution_count": 41,
   "metadata": {},
   "outputs": [],
   "source": [
    "import numpy as np"
   ]
  },
  {
   "cell_type": "code",
   "execution_count": 42,
   "metadata": {},
   "outputs": [],
   "source": [
    "# recibe una matriz 4x4 y devuelve una matriz 4x4 con el pivoteo parcial y escalado\n",
    "\n",
    "matriz_inicial = [[1, 2, 3, 4], [5, 6, 7, 8], [9, 10, 11, 12], [13, 14, 15, 16]]\n",
    "\n",
    "# matriz = np.array(matriz_inicial, dtype=np.float64)"
   ]
  },
  {
   "cell_type": "code",
   "execution_count": 43,
   "metadata": {},
   "outputs": [],
   "source": [
    "def pivoteo_parcial_escalado(A):\n",
    "    n = 4\n",
    "    for i in range(n):\n",
    "        # Escalar la fila i\n",
    "        s = max([abs(A[i][j]) for j in range(n - 1)])\n",
    "        print(s)\n",
    "        if s == 0:\n",
    "            raise ValueError(\"La matriz es singular\")\n",
    "        for j in range(n):\n",
    "            A[i][j] /= s\n",
    "        # Pivoteo parcial\n",
    "        for j in range(i + 1, n):\n",
    "            s = max([abs(A[k][i]) for k in range(j, n)])\n",
    "            if s == 0:\n",
    "                raise ValueError(\"La matriz es singular\")\n",
    "            r = abs(A[j][i]) / s\n",
    "            for k in range(i, n):\n",
    "                A[j][k] -= r * A[i][k]\n",
    "    return A"
   ]
  },
  {
   "cell_type": "code",
   "execution_count": 44,
   "metadata": {},
   "outputs": [
    {
     "name": "stdout",
     "output_type": "stream",
     "text": [
      "3\n",
      "6.615384615384615\n",
      "9.592307692307694\n",
      "12.666666666666666\n",
      "[0.3333333333333333, 0.6666666666666666, 1.0, 1.3333333333333333]\n",
      "[0.7364341085271319, 0.868217054263566, 1.0, 1.1317829457364341]\n",
      "[0.9141940657578187, 0.9296357770276569, 1.0, 1.0703642229723427]\n",
      "[1.0, 0.9840881272949817, 0.9473684210526316, 0.9840410129966756]\n"
     ]
    }
   ],
   "source": [
    "matriz_pivotada = pivoteo_parcial_escalado(matriz_inicial)\n",
    "\n",
    "for row in matriz_pivotada:\n",
    "    print(row)"
   ]
  },
  {
   "cell_type": "code",
   "execution_count": 45,
   "metadata": {},
   "outputs": [
    {
     "name": "stdout",
     "output_type": "stream",
     "text": [
      "3\n",
      "6.615384615384615\n",
      "9.592307692307694\n",
      "12.666666666666666\n",
      "[0.3333333333333333, 0.6666666666666666, 1.0, 1.3333333333333333]\n",
      "[0.7364341085271319, 0.868217054263566, 1.0, 1.1317829457364341]\n",
      "[0.9141940657578187, 0.9296357770276569, 1.0, 1.0703642229723427]\n",
      "[1.0, 0.9840881272949817, 0.9473684210526316, 0.9840410129966756]\n"
     ]
    }
   ],
   "source": [
    "A = [[1, 2, 3, 4], [5, 6, 7, 8], [9, 10, 11, 12], [13, 14, 15, 16]]\n",
    "A_triangular = pivoteo_parcial_escalado(A)\n",
    "for row in A_triangular:\n",
    "    print(row)"
   ]
  }
 ],
 "metadata": {
  "kernelspec": {
   "display_name": "Python 3",
   "language": "python",
   "name": "python3"
  },
  "language_info": {
   "codemirror_mode": {
    "name": "ipython",
    "version": 3
   },
   "file_extension": ".py",
   "mimetype": "text/x-python",
   "name": "python",
   "nbconvert_exporter": "python",
   "pygments_lexer": "ipython3",
   "version": "3.10.12"
  }
 },
 "nbformat": 4,
 "nbformat_minor": 2
}
